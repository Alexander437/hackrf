{
 "cells": [
  {
   "metadata": {},
   "cell_type": "markdown",
   "source": [
    "Из `sdr` приемников мы получаем IQ отсчеты. Рассмотрим, как получить из IQ отсчетов энергетический спектр\n",
    "и спектрограмму."
   ],
   "id": "7c845cffc544d451"
  },
  {
   "cell_type": "code",
   "id": "initial_id",
   "metadata": {
    "collapsed": true,
    "ExecuteTime": {
     "end_time": "2024-06-06T17:15:06.187561Z",
     "start_time": "2024-06-06T17:15:05.879212Z"
    }
   },
   "source": [
    "import numpy as np\n",
    "import matplotlib.mlab as mlab\n",
    "from matplotlib import pyplot as plt"
   ],
   "execution_count": 1,
   "outputs": []
  },
  {
   "metadata": {
    "ExecuteTime": {
     "end_time": "2024-06-06T17:15:06.959066Z",
     "start_time": "2024-06-06T17:15:06.956447Z"
    }
   },
   "cell_type": "code",
   "source": [
    "sample_rate = 20e6\n",
    "center_freq = 5e6\n",
    "samples = 131072\n",
    "NFFT = 256"
   ],
   "id": "d056831b140a7902",
   "execution_count": 2,
   "outputs": []
  },
  {
   "metadata": {},
   "cell_type": "markdown",
   "source": [
    "## Попробуем сгенерировать сигнал, выполнить БПФ и получить амплитудный спектр\n",
    "\n",
    "$$s(t) = e^{j 2 \\pi f_s t}$$"
   ],
   "id": "ecbc3abd333e0870"
  },
  {
   "metadata": {
    "ExecuteTime": {
     "end_time": "2024-06-06T17:15:09.413345Z",
     "start_time": "2024-06-06T17:15:09.402051Z"
    }
   },
   "cell_type": "code",
   "source": [
    "time = np.linspace(0, samples/sample_rate, samples)\n",
    "\n",
    "iq = np.exp(2j*np.pi*center_freq*time)\n",
    "print(f\"Сomplex numbers for iq samples were generated, shape={iq.shape}\")"
   ],
   "id": "1c8123ab7e3e3b5",
   "execution_count": 3,
   "outputs": []
  },
  {
   "metadata": {},
   "cell_type": "markdown",
   "source": "#### Расчет спектра:",
   "id": "91f52d0d57fc5a51"
  },
  {
   "metadata": {
    "ExecuteTime": {
     "end_time": "2024-06-06T17:15:10.892494Z",
     "start_time": "2024-06-06T17:15:10.884732Z"
    }
   },
   "cell_type": "code",
   "source": [
    "spectrum = np.fft.fftshift(np.fft.fft(iq))\n",
    "print(f\"Results obtained using FFT, shape={spectrum.shape} \")"
   ],
   "id": "95b18623fd739033",
   "execution_count": 4,
   "outputs": []
  },
  {
   "metadata": {},
   "cell_type": "markdown",
   "source": "#### Расчет частот",
   "id": "34b8c64c0d01c873"
  },
  {
   "metadata": {
    "ExecuteTime": {
     "end_time": "2024-06-06T17:15:12.593202Z",
     "start_time": "2024-06-06T17:15:12.588232Z"
    }
   },
   "cell_type": "code",
   "source": "freqs = np.fft.fftshift(np.fft.fftfreq(samples, d=1/sample_rate))",
   "id": "10a598f87e05f7a3",
   "execution_count": 5,
   "outputs": []
  },
  {
   "metadata": {
    "ExecuteTime": {
     "end_time": "2024-06-06T17:15:13.287377Z",
     "start_time": "2024-06-06T17:15:13.131445Z"
    }
   },
   "cell_type": "code",
   "source": [
    "plt.figure(figsize=(10,5))\n",
    "plt.plot(freqs / 1e6, np.abs(spectrum))  # in MHz\n",
    "plt.grid()"
   ],
   "id": "2ffc4533565011b6",
   "execution_count": 6,
   "outputs": []
  },
  {
   "metadata": {},
   "cell_type": "markdown",
   "source": "#### Для реального сигнала спектр будет симметричным",
   "id": "99ae02cc6b350462"
  },
  {
   "metadata": {
    "ExecuteTime": {
     "end_time": "2024-06-06T17:16:33.888483Z",
     "start_time": "2024-06-06T17:16:33.767195Z"
    }
   },
   "cell_type": "code",
   "source": [
    "spectrum = np.fft.fftshift(np.fft.fft(iq.real))\n",
    "\n",
    "plt.figure(figsize=(10,5))\n",
    "plt.plot(freqs / 1e6, np.abs(spectrum))  # in MHz\n",
    "plt.grid()"
   ],
   "id": "a85f027a60159435",
   "execution_count": 8,
   "outputs": []
  },
  {
   "metadata": {},
   "cell_type": "markdown",
   "source": [
    "## Нужно улучшить\n",
    "\n",
    "* теперь получим не амплитудный спектр, а энергетический\n",
    "* построим спектрограмму\n",
    "\n",
    "https://github.com/matplotlib/matplotlib/blob/v3.9.0/lib/matplotlib/mlab.py#L213"
   ],
   "id": "8c5bd843676df06c"
  },
  {
   "metadata": {
    "ExecuteTime": {
     "end_time": "2024-06-06T17:17:31.205057Z",
     "start_time": "2024-06-06T17:17:31.196578Z"
    }
   },
   "cell_type": "code",
   "source": [
    "P, freqs, t = mlab._spectral_helper(x=iq, y=None, NFFT=NFFT, Fs=sample_rate,\n",
    "                                     detrend_func=None, noverlap=0, mode='psd')\n",
    "print(f\"P.shape={P.shape}, freqs.shape={freqs.shape}, t.shape={t.shape}\")\n",
    "\n",
    "freqs /= 1e6  # in MHz\n",
    "P = np.abs(P)\n",
    "# Если нужно перевести в dB\n",
    "# P = 10. * np.log10(P)"
   ],
   "id": "b5fad44de85d29a1",
   "execution_count": 9,
   "outputs": []
  },
  {
   "metadata": {},
   "cell_type": "markdown",
   "source": "#### Энергетический спектр и спектрограмма",
   "id": "3f279c8082bd124c"
  },
  {
   "metadata": {
    "ExecuteTime": {
     "end_time": "2024-06-06T17:17:37.812942Z",
     "start_time": "2024-06-06T17:17:37.572172Z"
    }
   },
   "cell_type": "code",
   "source": [
    "fig, (ax1, ax2) = plt.subplots(nrows=2, figsize=(10, 10))\n",
    "\n",
    "# Спектр\n",
    "psd = P.mean(axis=1)\n",
    "ax1.plot(freqs, psd)  # in MHz\n",
    "ax1.grid(True)\n",
    "ax1.set_xlim(freqs[0], freqs[-1])\n",
    "\n",
    "# Спектрограмма\n",
    "spectrogram = P.T\n",
    "pad_xextent = NFFT / sample_rate / 2\n",
    "xextent = np.min(t) - pad_xextent, np.max(t) + pad_xextent\n",
    "tmin, tmax = xextent\n",
    "extent = freqs[0], freqs[-1], tmin, tmax\n",
    "ax2.imshow(spectrogram, extent=extent, aspect='auto')\n",
    "\n",
    "plt.tight_layout()\n",
    "plt.show()"
   ],
   "id": "787b7576aaca3840",
   "execution_count": 10,
   "outputs": []
  },
  {
   "metadata": {},
   "cell_type": "markdown",
   "source": "## Прочитает сигнал с hackrf",
   "id": "2c8e4d50e127f481"
  },
  {
   "metadata": {
    "ExecuteTime": {
     "end_time": "2024-06-06T17:19:19.922908Z",
     "start_time": "2024-06-06T17:19:19.218120Z"
    }
   },
   "cell_type": "code",
   "source": "!hackrf_info",
   "id": "c9984e9b459c4e6e",
   "execution_count": 11,
   "outputs": []
  },
  {
   "metadata": {
    "ExecuteTime": {
     "end_time": "2024-06-06T17:19:40.851871Z",
     "start_time": "2024-06-06T17:19:40.750545Z"
    }
   },
   "cell_type": "code",
   "source": [
    "from hackrf import HackRF\n",
    "\n",
    "hrf = HackRF()\n",
    "hrf.sample_rate = sample_rate\n",
    "hrf.center_freq = center_freq\n",
    "\n",
    "iq = hrf.read_samples()"
   ],
   "id": "e80323a90ebc6d17",
   "execution_count": 12,
   "outputs": []
  },
  {
   "metadata": {},
   "cell_type": "markdown",
   "source": [
    "#### Можно записать в файл\n",
    "\n",
    "(Это не обязательно, можно просто подавать на вход полученные IQ)"
   ],
   "id": "bf11f6e0771726c4"
  },
  {
   "metadata": {
    "ExecuteTime": {
     "end_time": "2024-06-06T17:19:49.767333Z",
     "start_time": "2024-06-06T17:19:49.754968Z"
    }
   },
   "cell_type": "code",
   "source": "np.savez(\"./data/example.npz\", iq)",
   "id": "fc5ab400e6c76243",
   "execution_count": 13,
   "outputs": []
  },
  {
   "metadata": {},
   "cell_type": "markdown",
   "source": "## Теперь прочитаем записанный на hackrf сигнал",
   "id": "9d3aa1d901382cd"
  },
  {
   "metadata": {
    "ExecuteTime": {
     "end_time": "2024-06-06T17:19:53.203143Z",
     "start_time": "2024-06-06T17:19:53.196440Z"
    }
   },
   "cell_type": "code",
   "source": [
    "signals = np.load(\"data/example.npz\")\n",
    "print(signals.files)\n",
    "iq = signals[\"arr_0\"]\n",
    "print(f\"IQ shape={iq.shape}\")"
   ],
   "id": "b91437ada7931aa1",
   "execution_count": 14,
   "outputs": []
  },
  {
   "metadata": {},
   "cell_type": "markdown",
   "source": "#### Расчет спектра + график",
   "id": "1f2b98c03ef1a3fd"
  },
  {
   "metadata": {
    "ExecuteTime": {
     "end_time": "2024-06-06T17:20:00.127049Z",
     "start_time": "2024-06-06T17:20:00.116530Z"
    }
   },
   "cell_type": "code",
   "source": [
    "P, freqs, t = mlab._spectral_helper(x=iq, y=None, NFFT=NFFT, Fs=sample_rate,\n",
    "                                     detrend_func=None, noverlap=0, mode='psd')\n",
    "print(f\"P.shape={P.shape}, freqs.shape={freqs.shape}, t.shape={t.shape}\")\n",
    "\n",
    "freqs = (freqs + center_freq) / 1e6  # in MHz\n",
    "P = np.abs(P)\n",
    "# Если нужно перевести в dB\n",
    "P = 10. * np.log10(P)"
   ],
   "id": "9de66f9f753b565",
   "execution_count": 15,
   "outputs": []
  },
  {
   "metadata": {
    "ExecuteTime": {
     "end_time": "2024-06-06T17:20:06.463397Z",
     "start_time": "2024-06-06T17:20:06.020701Z"
    }
   },
   "cell_type": "code",
   "source": [
    "fig, (ax1, ax2) = plt.subplots(nrows=2, figsize=(10, 10))\n",
    "\n",
    "# Спектр\n",
    "psd = P.mean(axis=1)\n",
    "ax1.plot(freqs, psd)  # in MHz\n",
    "ax1.grid(True)\n",
    "ax1.set_xlim(freqs[0], freqs[-1])\n",
    "\n",
    "# Спектрограмма\n",
    "spectrogram = P.T\n",
    "pad_xextent = NFFT / sample_rate / 2\n",
    "xextent = np.min(t) - pad_xextent, np.max(t) + pad_xextent\n",
    "tmin, tmax = xextent\n",
    "extent = freqs[0], freqs[-1], tmin, tmax\n",
    "ax2.imshow(spectrogram, extent=extent, aspect='auto')\n",
    "\n",
    "plt.tight_layout()\n",
    "plt.show()"
   ],
   "id": "472e55e1a31d1680",
   "execution_count": 16,
   "outputs": []
  },
  {
   "metadata": {},
   "cell_type": "markdown",
   "source": [
    "[source](https://hackrf.readthedocs.io/en/latest/faq.html)\n",
    "\n",
    "Если вы видите большой всплеск на центральной частоте спектра независимо от частоты, на которую вы настроены, вы видите смещение постоянного тока (`DC offset/component/bias`). Это неизменный аспект сигнала в отличие от «переменной» части сигнала, которая меняется со временем. Смещение постоянного тока не уникально для HackRF, это общее для всех систем квадратурной выборки."
   ],
   "id": "81e8d311ded004f9"
  },
  {
   "metadata": {},
   "cell_type": "markdown",
   "source": "#### Компенсируем DC offset с помощью `mlab.detrend_linear`",
   "id": "d78516c2d05cca66"
  },
  {
   "metadata": {
    "ExecuteTime": {
     "end_time": "2024-06-06T17:20:35.630118Z",
     "start_time": "2024-06-06T17:20:35.591237Z"
    }
   },
   "cell_type": "code",
   "source": [
    "P, freqs, t = mlab._spectral_helper(x=iq, y=None, NFFT=NFFT, Fs=sample_rate,\n",
    "                                     detrend_func=mlab.detrend_linear, noverlap=0, mode='psd')\n",
    "print(f\"P.shape={P.shape}, freqs.shape={freqs.shape}, t.shape={t.shape}\")\n",
    "\n",
    "freqs = (freqs + center_freq) / 1e6  # in MHz\n",
    "P = np.abs(P)\n",
    "# Если нужно перевести в dB\n",
    "P = 10. * np.log10(P)\n",
    "# При применении mlab.detrend_linear, частота посередине спектра была удалена\n",
    "P[NFFT//2, :] = P[NFFT//2 + 1, :]"
   ],
   "id": "c0e38f604ee88179",
   "execution_count": 17,
   "outputs": []
  },
  {
   "metadata": {
    "ExecuteTime": {
     "end_time": "2024-06-06T17:20:38.757353Z",
     "start_time": "2024-06-06T17:20:38.317607Z"
    }
   },
   "cell_type": "code",
   "source": [
    "fig, (ax1, ax2) = plt.subplots(nrows=2, figsize=(10, 10))\n",
    "\n",
    "# Спектр\n",
    "psd = P.mean(axis=1)\n",
    "ax1.plot(freqs, psd)  # in MHz\n",
    "ax1.grid(True)\n",
    "ax1.set_xlim(freqs[0], freqs[-1])\n",
    "\n",
    "# Спектрограмма\n",
    "spectrogram = P.T\n",
    "pad_xextent = NFFT / sample_rate / 2\n",
    "xextent = np.min(t) - pad_xextent, np.max(t) + pad_xextent\n",
    "tmin, tmax = xextent\n",
    "extent = freqs[0], freqs[-1], tmin, tmax\n",
    "ax2.imshow(spectrogram, extent=extent, aspect='auto')\n",
    "\n",
    "plt.tight_layout()\n",
    "plt.show()"
   ],
   "id": "2d56af5cb3789163",
   "execution_count": 18,
   "outputs": []
  }
 ],
 "metadata": {
  "kernelspec": {
   "display_name": "Python 3",
   "language": "python",
   "name": "python3"
  },
  "language_info": {
   "codemirror_mode": {
    "name": "ipython",
    "version": 2
   },
   "file_extension": ".py",
   "mimetype": "text/x-python",
   "name": "python",
   "nbconvert_exporter": "python",
   "pygments_lexer": "ipython2",
   "version": "2.7.6"
  }
 },
 "nbformat": 4,
 "nbformat_minor": 5
}
